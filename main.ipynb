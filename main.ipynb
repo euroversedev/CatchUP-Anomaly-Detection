{
 "cells": [
  {
   "cell_type": "code",
   "execution_count": null,
   "metadata": {},
   "outputs": [],
   "source": [
    "\n",
    "! python trim_video.py -s \"F:/anomaly-detection-data/kidnap/outsidedoor_01/199-1\" -d \"F:/anomaly-detection-data/trimmed_kidnap\""
   ]
  },
  {
   "cell_type": "code",
   "execution_count": 40,
   "metadata": {},
   "outputs": [],
   "source": [
    "import os\n",
    "\n",
    "folder_list = os.listdir(\"F:/anomaly-detection-data/kidnap\")\n",
    "for folder in folder_list:\n",
    "    cctv_list = os.listdir(\"F:/anomaly-detection-data/kidnap\"+'/'+folder)\n",
    "    \n",
    "    for cctv in cctv_list:\n",
    "        src_path = \"F:/anomaly-detection-data/kidnap\"+'/'+folder+'/'+cctv\n",
    "        dst_path = \"F:/anomaly-detection-data/trimmed_kidnap\"\n",
    "\n",
    "        terminal_command = f\"python trim_video.py -s {src_path} -d {dst_path}\"\n",
    "        os.system(terminal_command)\n"
   ]
  },
  {
   "cell_type": "code",
   "execution_count": null,
   "metadata": {},
   "outputs": [],
   "source": [
    "import os\n",
    "\n",
    "folder_list = os.listdir(\"F:/anomaly-detection-data/swoon\")\n",
    "for folder in folder_list:\n",
    "    cctv_list = os.listdir(\"F:/anomaly-detection-data/swoon\"+'/'+folder)\n",
    "    \n",
    "    for cctv in cctv_list:\n",
    "        src_path = \"F:/anomaly-detection-data/swoon\"+'/'+folder+'/'+cctv\n",
    "        dst_path = \"F:/anomaly-detection-data/trimmed_swoon\"\n",
    "\n",
    "        terminal_command = f\"python trim_video.py -s {src_path} -d {dst_path}\"\n",
    "        os.system(terminal_command)"
   ]
  }
 ],
 "metadata": {
  "kernelspec": {
   "display_name": "Python 3.8.13 ('anomaly-detect')",
   "language": "python",
   "name": "python3"
  },
  "language_info": {
   "codemirror_mode": {
    "name": "ipython",
    "version": 3
   },
   "file_extension": ".py",
   "mimetype": "text/x-python",
   "name": "python",
   "nbconvert_exporter": "python",
   "pygments_lexer": "ipython3",
   "version": "3.8.13"
  },
  "orig_nbformat": 4,
  "vscode": {
   "interpreter": {
    "hash": "0f31adedb7d6deb58b682ee953bce81d560b35d1a2e63823a63e0ee1df43b424"
   }
  }
 },
 "nbformat": 4,
 "nbformat_minor": 2
}
